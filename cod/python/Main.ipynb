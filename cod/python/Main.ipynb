{
 "cells": [
  {
   "cell_type": "markdown",
   "id": "c0f0fc04-37b7-4254-a377-7523535ae734",
   "metadata": {},
   "source": [
    "### <center>Main para pruebas y resultados</center>\n"
   ]
  },
  {
   "cell_type": "code",
   "execution_count": 2,
   "id": "aa362df6-4b59-4c4d-b470-ab762a718f68",
   "metadata": {},
   "outputs": [],
   "source": [
    "#Se cargan los modulos y paquetes\n",
    "import pandas as pd\n",
    "import numpy as np\n",
    "import matplotlib.pyplot as plt\n",
    "from sklearn.metrics import roc_curve, auc\n",
    "from sklearn.model_selection import train_test_split\n",
    "from Data_Preproceso import DataPreproceso\n",
    "from Modelo_XGB import ModeloXGBoost\n",
    "from Voting_Classifier import VotingClassifierModel\n",
    "from Stacking_Classifier import StackingClassifierModel"
   ]
  },
  {
   "cell_type": "code",
   "execution_count": null,
   "id": "0c17988c-f4fb-4636-8d10-8f8ebe10e8d6",
   "metadata": {},
   "outputs": [],
   "source": [
    "#Se utiliza el modulo data_prepoceso para cargar la data y crear el preproceso para el pipeline de cada modelo\n",
    "data_preproceso = DataPreproceso('data/Data_fraude.csv')\n",
    "data, preproceso = data_preproceso.cargar_data_y_preprocesar()"
   ]
  },
  {
   "cell_type": "code",
   "execution_count": null,
   "id": "fa3ced5b-91dd-4873-83d6-56467c636a5a",
   "metadata": {},
   "outputs": [],
   "source": [
    "#Es pertinente ver cuantas observaciones son fraudes usando la columna isFraud que es 1 si es fraunde y 0 si no\n",
    "print(data['isFraud'].value_counts())"
   ]
  },
  {
   "cell_type": "code",
   "execution_count": null,
   "id": "e4a734ae-24d4-4625-a1fa-02daae9b507b",
   "metadata": {},
   "outputs": [],
   "source": [
    "#Pequeña descripcion de la data\n",
    "print(data.info())"
   ]
  },
  {
   "cell_type": "code",
   "execution_count": null,
   "id": "69ed79dd-be3c-484b-81ba-fe7695ae39c5",
   "metadata": {},
   "outputs": [],
   "source": [
    "#Se divide la data entre variable a predecir y variables independientes \n",
    "X = data.drop(columns=['isFraud'])\n",
    "y = data['isFraud']\n",
    "\n",
    "#Se utiliza train_test_split para crear una muestra de 1% de la base, alrededor de 60k observaciones\n",
    "#Esto es debido a que stratify=y garantiza que se mantenga la proporcion entre las clases de la variable a predecir \n",
    "X, _, Y, _ = train_test_split(X, y, test_size=0.99, stratify=y, random_state=7)"
   ]
  },
  {
   "cell_type": "code",
   "execution_count": null,
   "id": "bba023e7-c9e5-4be2-a538-230cc2f0f50b",
   "metadata": {},
   "outputs": [],
   "source": [
    "#Se crea el modelo XGBoost usando el modulo importado\n",
    "modelo_xgb = ModeloXGBoost(pd.concat([X, Y], axis=1), preproceso)\n",
    "\n",
    "#Se crea el pipeline con el preproceso y el modelo XGBoost\n",
    "modelo_xgb.crear_pipeline()\n",
    "\n",
    "#Entrena el modelo y calcula el roc auc\n",
    "roc_auc_xgb, fpr_xgb, tpr_xgb = modelo_xgb.entrenar_modelo()\n",
    "\n",
    "#Se calcula la validacion cruzada estratificada\n",
    "roc_auc_promedio_xgb = modelo_xgb.validacion_cruzada(num_estratos=5)\n",
    "\n",
    "#Se grafica la curva roc auc para el conjunto de prueba \n",
    "plt.figure()\n",
    "plt.plot(fpr_xgb, tpr_xgb, color='blue', lw=2, label=f'XGBoost ROC curve (area = {roc_auc_xgb:.2f})')\n",
    "plt.plot([0, 1], [0, 1], color='navy', lw=2, linestyle='--')\n",
    "plt.xlim([0.0, 1.0])\n",
    "plt.ylim([0.0, 1.05])\n",
    "plt.xlabel('False Positive Rate')\n",
    "plt.ylabel('True Positive Rate')\n",
    "plt.title('Receiver Operating Characteristic (ROC) Curve - XGBoost')\n",
    "plt.legend(loc=\"lower right\")\n",
    "plt.show()"
   ]
  },
  {
   "cell_type": "code",
   "execution_count": null,
   "id": "c1663879-420d-42af-8c64-4bb19ae4d862",
   "metadata": {},
   "outputs": [],
   "source": [
    "#Se crea el modelo XGBoost usando el modulo importado\n",
    "modelo_xgb = ModeloXGBoost(pd.concat([X, Y], axis=1), preproceso)\n",
    "\n",
    "#Se crea el pipeline con el preproceso y el modelo XGBoost\n",
    "modelo_xgb.crear_pipeline()\n",
    "\n",
    "#Entrena el modelo y calcula el roc auc\n",
    "roc_auc_xgb, fpr_xgb, tpr_xgb = modelo_xgb.entrenar_modelo()\n",
    "\n",
    "#Se calcula la validacion cruzada estratificada\n",
    "roc_auc_promedio_xgb = modelo_xgb.validacion_cruzada(num_estratos=5)\n",
    "\n",
    "#Se grafica la curva roc auc para el conjunto de prueba \n",
    "plt.figure()\n",
    "plt.plot(fpr_xgb, tpr_xgb, color='blue', lw=2, label=f'XGBoost ROC curve (area = {roc_auc_xgb:.2f})')\n",
    "plt.plot([0, 1], [0, 1], color='navy', lw=2, linestyle='--')\n",
    "plt.xlim([0.0, 1.0])\n",
    "plt.ylim([0.0, 1.05])\n",
    "plt.xlabel('False Positive Rate')\n",
    "plt.ylabel('True Positive Rate')\n",
    "plt.title('Receiver Operating Characteristic (ROC) Curve - XGBoost')\n",
    "plt.legend(loc=\"lower right\")\n",
    "plt.show()"
   ]
  },
  {
   "cell_type": "code",
   "execution_count": null,
   "id": "444a4dcb-64dc-412e-874e-d03cf0db9aeb",
   "metadata": {},
   "outputs": [],
   "source": [
    "#Se crea el modelo XGBoost usando el modulo importado\n",
    "modelo_xgb = ModeloXGBoost(pd.concat([X, Y], axis=1), preproceso)\n",
    "\n",
    "#Se crea el pipeline con el preproceso y el modelo XGBoost\n",
    "modelo_xgb.crear_pipeline()\n",
    "\n",
    "#Entrena el modelo y calcula el roc auc\n",
    "roc_auc_xgb, fpr_xgb, tpr_xgb = modelo_xgb.entrenar_modelo()\n",
    "\n",
    "#Se calcula la validacion cruzada estratificada\n",
    "roc_auc_promedio_xgb = modelo_xgb.validacion_cruzada(num_estratos=5)\n",
    "\n",
    "#Se grafica la curva roc auc para el conjunto de prueba \n",
    "plt.figure()\n",
    "plt.plot(fpr_xgb, tpr_xgb, color='blue', lw=2, label=f'XGBoost ROC curve (area = {roc_auc_xgb:.2f})')\n",
    "plt.plot([0, 1], [0, 1], color='navy', lw=2, linestyle='--')\n",
    "plt.xlim([0.0, 1.0])\n",
    "plt.ylim([0.0, 1.05])\n",
    "plt.xlabel('False Positive Rate')\n",
    "plt.ylabel('True Positive Rate')\n",
    "plt.title('Receiver Operating Characteristic (ROC) Curve - XGBoost')\n",
    "plt.legend(loc=\"lower right\")\n",
    "plt.show()"
   ]
  }
 ],
 "metadata": {
  "kernelspec": {
   "display_name": "Python 3 (ipykernel)",
   "language": "python",
   "name": "python3"
  },
  "language_info": {
   "codemirror_mode": {
    "name": "ipython",
    "version": 3
   },
   "file_extension": ".py",
   "mimetype": "text/x-python",
   "name": "python",
   "nbconvert_exporter": "python",
   "pygments_lexer": "ipython3",
   "version": "3.11.7"
  }
 },
 "nbformat": 4,
 "nbformat_minor": 5
}
