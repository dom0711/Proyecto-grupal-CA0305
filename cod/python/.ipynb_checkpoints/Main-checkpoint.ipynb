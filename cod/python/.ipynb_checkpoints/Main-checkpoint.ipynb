{
 "cells": [
  {
   "cell_type": "markdown",
   "id": "c0f0fc04-37b7-4254-a377-7523535ae734",
   "metadata": {},
   "source": [
    "### <center>Main para pruebas y resultados</center>\n"
   ]
  },
  {
   "cell_type": "code",
   "execution_count": 1,
   "id": "aa362df6-4b59-4c4d-b470-ab762a718f68",
   "metadata": {},
   "outputs": [],
   "source": [
    "import pandas as pd\n",
    "import numpy as np\n",
    "import matplotlib.pyplot as plt\n",
    "from sklearn.metrics import roc_curve, auc, RocCurveDisplay\n",
    "from Data_Preproceso import DataPreproceso\n",
    "from Modelo_XGB import ModeloXGBoost\n",
    "from Voting_Classifier import VotingClassifierModel\n",
    "from Stacking_Classifier import StackingClassifierModel"
   ]
  },
  {
   "cell_type": "code",
   "execution_count": null,
   "id": "0c17988c-f4fb-4636-8d10-8f8ebe10e8d6",
   "metadata": {},
   "outputs": [],
   "source": [
    "data_preproceso = DataPreproceso('Data_fraude.csv')\n",
    "data, preproceso = data_preproceso.cargar_data_y_preprocesar()"
   ]
  },
  {
   "cell_type": "code",
   "execution_count": null,
   "id": "fa3ced5b-91dd-4873-83d6-56467c636a5a",
   "metadata": {},
   "outputs": [],
   "source": [
    "modelo_xgb = ModeloXGBoost(data, preproceso)\n",
    "modelo_xgb.crear_pipeline()\n",
    "X_train, X_test, Y_train, Y_test = train_test_split(modelo_xgb.X, modelo_xgb.Y, test_size=0.25, random_state=7, stratify=modelo_xgb.Y)\n",
    "modelo_xgb.pipeline.fit(X_train, Y_train)\n",
    "Y_predict_proba_xgb = modelo_xgb.pipeline.predict_proba(X_test)[:, 1]\n",
    "fpr_xgb, tpr_xgb, _ = roc_curve(Y_test, Y_predict_proba_xgb)\n",
    "roc_auc_xgb = auc(fpr_xgb, tpr_xgb)"
   ]
  },
  {
   "cell_type": "code",
   "execution_count": null,
   "id": "e4a734ae-24d4-4625-a1fa-02daae9b507b",
   "metadata": {},
   "outputs": [],
   "source": [
    "voting_model = VotingClassifierModel(data, preproceso)\n",
    "voting_model.crear_voting_classifier()\n",
    "voting_model.pipeline.fit(X_train, Y_train)\n",
    "Y_predict_proba_voting = voting_model.pipeline.predict_proba(X_test)[:, 1]\n",
    "fpr_voting, tpr_voting, _ = roc_curve(Y_test, Y_predict_proba_voting)\n",
    "roc_auc_voting = auc(fpr_voting, tpr_voting)"
   ]
  },
  {
   "cell_type": "code",
   "execution_count": null,
   "id": "69ed79dd-be3c-484b-81ba-fe7695ae39c5",
   "metadata": {},
   "outputs": [],
   "source": [
    "stacking_model = StackingClassifierModel(data, preproceso)\n",
    "stacking_model.crear_stacking_classifier()\n",
    "stacking_model.pipeline.fit(X_train, Y_train)\n",
    "Y_predict_proba_stacking = stacking_model.pipeline.predict_proba(X_test)[:, 1]\n",
    "fpr_stacking, tpr_stacking, _ = roc_curve(Y_test, Y_predict_proba_stacking)\n",
    "roc_auc_stacking = auc(fpr_stacking, tpr_stacking)"
   ]
  },
  {
   "cell_type": "code",
   "execution_count": null,
   "id": "bba023e7-c9e5-4be2-a538-230cc2f0f50b",
   "metadata": {},
   "outputs": [],
   "source": [
    "plt.figure(figsize=(10, 8))\n",
    "plt.plot(fpr_xgb, tpr_xgb, color='blue', lw=2, label=f'XGBoost ROC curve (area = {roc_auc_xgb:.2f})')\n",
    "plt.plot(fpr_voting, tpr_voting, color='green', lw=2, label=f'VotingClassifier ROC curve (area = {roc_auc_voting:.2f})')\n",
    "plt.plot(fpr_stacking, tpr_stacking, color='red', lw=2, label=f'StackingClassifier ROC curve (area = {roc_auc_stacking:.2f})')\n",
    "plt.plot([0, 1], [0, 1], color='navy', lw=2, linestyle='--')\n",
    "plt.xlim([0.0, 1.0])\n",
    "plt.ylim([0.0, 1.05])\n",
    "plt.xlabel('False Positive Rate')\n",
    "plt.ylabel('True Positive Rate')\n",
    "plt.title('Receiver Operating Characteristic (ROC) Curves')\n",
    "plt.legend(loc=\"lower right\")\n",
    "plt.show()"
   ]
  }
 ],
 "metadata": {
  "kernelspec": {
   "display_name": "Python 3 (ipykernel)",
   "language": "python",
   "name": "python3"
  },
  "language_info": {
   "codemirror_mode": {
    "name": "ipython",
    "version": 3
   },
   "file_extension": ".py",
   "mimetype": "text/x-python",
   "name": "python",
   "nbconvert_exporter": "python",
   "pygments_lexer": "ipython3",
   "version": "3.11.7"
  }
 },
 "nbformat": 4,
 "nbformat_minor": 5
}
